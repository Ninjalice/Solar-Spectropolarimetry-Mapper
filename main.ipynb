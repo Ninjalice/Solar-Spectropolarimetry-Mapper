{
 "cells": [
  {
   "cell_type": "code",
   "execution_count": 1,
   "id": "0ac1d5a0",
   "metadata": {},
   "outputs": [
    {
     "name": "stderr",
     "output_type": "stream",
     "text": [
      "e:\\CODING\\SpectropolarimeterMaps\\.venv\\Lib\\site-packages\\tqdm\\auto.py:21: TqdmWarning: IProgress not found. Please update jupyter and ipywidgets. See https://ipywidgets.readthedocs.io/en/stable/user_install.html\n",
      "  from .autonotebook import tqdm as notebook_tqdm\n"
     ]
    }
   ],
   "source": [
    "import pandas as pd\n",
    "import astropy.units as u\n",
    "from lib.antenna import RT32\n",
    "from lib.weather import Weather\n",
    "from lib.spiral_sun_observation import SpiralSunObservation\n",
    "import warnings\n",
    "from datetime import datetime\n",
    "\n",
    "# Imprimimos estadísticas resumidas del DataFrame final\n",
    "pd.set_option('display.float_format', '{:.10f}'.format)\n",
    "warnings.simplefilter(action='ignore', category=pd.errors.SettingWithCopyWarning)\n",
    "\n"
   ]
  },
  {
   "cell_type": "code",
   "execution_count": 2,
   "id": "93cce6d3",
   "metadata": {},
   "outputs": [],
   "source": [
    "# RT32 location (Ventspils, Latvia)\n",
    "rt32_antenna = RT32()\n",
    "rt32_antenna.az_offset0 = 0\n",
    "rt32_antenna.el_offset0 = 0\n",
    "\n",
    "rt32_antenna.set_location(latitude=57.5535171694, longitude=21.8545525000, elevation=20)\n",
    "\n",
    "# Define constants\n",
    "year = 2025\n",
    "month = 5\n",
    "day = 8\n",
    "hour_start = 12\n",
    "minute_start = 1\n"
   ]
  },
  {
   "cell_type": "code",
   "execution_count": 3,
   "id": "57181b08",
   "metadata": {},
   "outputs": [
    {
     "name": "stdout",
     "output_type": "stream",
     "text": [
      "ObservationConfig 2025-05-08T12:01:00\n",
      "-------------------------------------------------------------\n",
      "Start processing the FITS file: data/examples/FITS/lnsp4_5ch_250508_120000_125610.fit\n",
      "Processing the data...\n",
      "Getting final processed data...\n"
     ]
    },
    {
     "name": "stderr",
     "output_type": "stream",
     "text": [
      "WARNING: UnitsWarning: 'HOURS' did not parse as fits unit: At col 0, Unit 'HOURS' not supported by the FITS standard.  If this is meant to be a custom unit, define it with 'u.def_unit'. To have it recognized inside a file reader or other code, enable it with 'u.add_enabled_units'. For details, see https://docs.astropy.org/en/latest/units/combining_and_defining.html [astropy.units.core]\n"
     ]
    },
    {
     "name": "stdout",
     "output_type": "stream",
     "text": [
      "Processing heliocentric coordinates...\n",
      "Creating solar maps with Gaussian filtering...\n",
      "Rotation applied: True, P angle: -22.547422502415362\n",
      "Solar maps created successfully!\n"
     ]
    },
    {
     "data": {
      "text/plain": [
       "'./2025-05-08T12_01_00'"
      ]
     },
     "execution_count": 3,
     "metadata": {},
     "output_type": "execute_result"
    }
   ],
   "source": [
    "\n",
    "temperature = u.Quantity(15.0, unit=u.deg_C)\n",
    "pressure = u.Quantity(1013.25, unit=u.hPa)\n",
    "relative_humidity = u.Quantity(60.0, unit=u.percent)\n",
    "obswl =u.Quantity(50000, unit=u.nm) \n",
    "\n",
    "weather = Weather(temperature, pressure, relative_humidity, obswl)\n",
    "\n",
    "observation_datetime = datetime(year, month, day, hour_start, minute_start)\n",
    "observation = SpiralSunObservation(weather, rt32_antenna, observation_datetime)\n",
    "\n",
    "fit_file_path = \"data/examples/FITS/lnsp4_5ch_250508_120000_125610.fit\"\n",
    "images_path = \".\"\n",
    "\n",
    "observation.createImages_GAUSS(fit_file_path , images_path)"
   ]
  }
 ],
 "metadata": {
  "kernelspec": {
   "display_name": ".venv",
   "language": "python",
   "name": "python3"
  },
  "language_info": {
   "codemirror_mode": {
    "name": "ipython",
    "version": 3
   },
   "file_extension": ".py",
   "mimetype": "text/x-python",
   "name": "python",
   "nbconvert_exporter": "python",
   "pygments_lexer": "ipython3",
   "version": "3.12.8"
  }
 },
 "nbformat": 4,
 "nbformat_minor": 5
}
