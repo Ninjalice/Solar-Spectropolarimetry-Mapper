{
 "cells": [
  {
   "cell_type": "code",
   "execution_count": null,
   "id": "0ac1d5a0",
   "metadata": {},
   "outputs": [],
   "source": [
    "import pandas as pd\n",
    "import astropy.units as u\n",
    "from lib.antenna import RT32\n",
    "from lib.weather import Weather\n",
    "from lib.spiral_sun_observation import SpiralSunObservation\n",
    "import warnings\n",
    "from datetime import datetime\n",
    "\n",
    "# Imprimimos estadísticas resumidas del DataFrame final\n",
    "pd.set_option('display.float_format', '{:.10f}'.format)\n",
    "warnings.simplefilter(action='ignore', category=pd.errors.SettingWithCopyWarning)\n",
    "\n"
   ]
  },
  {
   "cell_type": "code",
   "execution_count": null,
   "id": "93cce6d3",
   "metadata": {},
   "outputs": [],
   "source": [
    "# RT32 location (Ventspils, Latvia)\n",
    "rt32_antenna = RT32()\n",
    "rt32_antenna.az_offset0 = 0\n",
    "rt32_antenna.el_offset0 = 0\n",
    "\n",
    "rt32_antenna.set_location(latitude=57.5535171694, longitude=21.8545525000, elevation=20)\n",
    "\n",
    "# Define constants\n",
    "year = 2025\n",
    "month = 5\n",
    "day = 8\n",
    "hour_start = 12\n",
    "minute_start = 1\n"
   ]
  },
  {
   "cell_type": "code",
   "execution_count": null,
   "id": "57181b08",
   "metadata": {},
   "outputs": [],
   "source": [
    "\n",
    "temperature = u.Quantity(15.0, unit=u.deg_C)\n",
    "pressure = u.Quantity(1013.25, unit=u.hPa)\n",
    "relative_humidity = u.Quantity(60.0, unit=u.percent)\n",
    "obswl =u.Quantity(50000, unit=u.nm) \n",
    "\n",
    "weather = Weather(temperature, pressure, relative_humidity, obswl)\n",
    "\n",
    "observation_datetime = datetime(year, month, day, hour_start, minute_start)\n",
    "observation = SpiralSunObservation(weather, rt32_antenna, observation_datetime)\n",
    "\n",
    "fit_file_path = \"data/examples/FITS/lnsp4_5ch_250508_120000_125610.fit\"\n",
    "images_path = \".\"\n",
    "\n",
    "observation.createImages_GAUSS(fit_file_path , images_path)"
   ]
  }
 ],
 "metadata": {
  "language_info": {
   "name": "python"
  }
 },
 "nbformat": 4,
 "nbformat_minor": 5
}
