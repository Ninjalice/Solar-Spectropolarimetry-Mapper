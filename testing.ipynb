{
 "cells": [
  {
   "cell_type": "code",
   "execution_count": null,
   "id": "629a649a",
   "metadata": {},
   "outputs": [
    {
     "name": "stderr",
     "output_type": "stream",
     "text": [
      "e:\\CODING\\SpectropolarimeterMaps\\.venv\\Lib\\site-packages\\tqdm\\auto.py:21: TqdmWarning: IProgress not found. Please update jupyter and ipywidgets. See https://ipywidgets.readthedocs.io/en/stable/user_install.html\n",
      "  from .autonotebook import tqdm as notebook_tqdm\n"
     ]
    }
   ],
   "source": [
    "import pandas as pd\n",
    "import astropy.units as u\n",
    "import warnings\n",
    "from datetime import datetime\n",
    "from lib.antenna import RT32\n",
    "from lib.weather import Weather\n",
    "from lib.spiral_sun_observation import SpiralSunObservation\n",
    "from lib.position_generator import SpiralPositionGenerator\n",
    "from lib.file_generator import PTFFileGenerator\n",
    "from lib.data_processor import SolarDataProcessor\n",
    "from lib.solar_plotter import SolarMapPlotter\n",
    "\n",
    "# Imprimimos estadísticas resumidas del DataFrame final\n",
    "pd.set_option('display.float_format', '{:.10f}'.format)\n",
    "warnings.simplefilter(action='ignore', category=pd.errors.SettingWithCopyWarning)"
   ]
  },
  {
   "cell_type": "code",
   "execution_count": null,
   "id": "f0b2cbc7",
   "metadata": {},
   "outputs": [
    {
     "name": "stdout",
     "output_type": "stream",
     "text": [
      "ObservationConfig 2025-05-08T09:15:00\n",
      "-------------------------------------------------------------\n",
      "Saved:  sun_scan_250508_0915.ptf    3300   points\n",
      "-------------------------------------------------------------\n",
      "Start processing the FITS file: real_data/lnsp4_5ch_250508_091400_101010.fit\n"
     ]
    },
    {
     "ename": "NameError",
     "evalue": "name 'bintable_to_pandas' is not defined",
     "output_type": "error",
     "traceback": [
      "\u001b[31m---------------------------------------------------------------------------\u001b[39m",
      "\u001b[31mNameError\u001b[39m                                 Traceback (most recent call last)",
      "\u001b[36mCell\u001b[39m\u001b[36m \u001b[39m\u001b[32mIn[2]\u001b[39m\u001b[32m, line 42\u001b[39m\n\u001b[32m     40\u001b[39m \u001b[38;5;28mprint\u001b[39m(\u001b[33m'\u001b[39m\u001b[33mStart processing the FITS file:\u001b[39m\u001b[33m'\u001b[39m, fit_file_path)\n\u001b[32m     41\u001b[39m \u001b[38;5;66;03m# Converts the binary table to a Pandas DataFrame\u001b[39;00m\n\u001b[32m---> \u001b[39m\u001b[32m42\u001b[39m data_df = \u001b[43mbintable_to_pandas\u001b[49m(fit_file_path, hdu_number)        \n\u001b[32m     44\u001b[39m \u001b[38;5;28mprint\u001b[39m(\u001b[33m'\u001b[39m\u001b[33mProcessing the data...\u001b[39m\u001b[33m'\u001b[39m)\n\u001b[32m     45\u001b[39m band_data_dfs = processData(data_df)\n",
      "\u001b[31mNameError\u001b[39m: name 'bintable_to_pandas' is not defined"
     ]
    }
   ],
   "source": [
    "# RT32 location (Ventspils, Latvia)\n",
    "rt32_antenna = RT32()\n",
    "rt32_antenna.set_location(latitude=57.5535171694, longitude=21.8545525000, elevation=20)\n",
    "\n",
    "# Define constants\n",
    "year = 2025\n",
    "month = 5\n",
    "day = 8\n",
    "hour_start = 9\n",
    "minute_start = 15\n",
    "\n",
    "# Set up weather parameters\n",
    "temperature = u.Quantity(20.0, unit=u.deg_C)\n",
    "pressure = u.Quantity(1013.25, unit=u.hPa)\n",
    "relative_humidity = u.Quantity(60.0, unit=u.percent)\n",
    "obswl = u.Quantity(50000, unit=u.nm) \n",
    "\n",
    "weather = Weather(temperature, pressure, relative_humidity, obswl)\n",
    "\n",
    "# Create observation datetime\n",
    "observation_datetime = datetime(year, month, day, hour_start, minute_start)\n",
    "\n",
    "# Initialize the spiral sun observation\n",
    "observation = SpiralSunObservation(weather, rt32_antenna, observation_datetime)\n",
    "\n",
    "# File paths\n",
    "fit_file_path = \"data/examples/FITS/lnsp4_5ch_250508_091400_101010.fit\"\n",
    "ptf_file_path = \"data/examples/PTF/sun_scan_250508_0915.ptf\"\n",
    "output_path = \"\"\n",
    "\n",
    "# Calculate positions using the position generator\n",
    "az_anten, el_anten, az_sun, el_sun, xx1, yy1, utc = observation.calculatePositions()\n",
    "\n",
    "# Generate PTF file using the file generator\n",
    "observation.generateFile(output_path, az_anten, el_anten, utc)\n",
    "\n",
    "# Create sun position dataframe\n",
    "sun_position_df = pd.DataFrame({'UTC': utc, 'SunX': xx1, 'SunY': yy1})\n",
    "\n",
    "# Process FITS file using the data processor\n",
    "print('-------------------------------------------------------------')\n",
    "print('Start processing the FITS file:', fit_file_path)\n",
    "band_processed_dfs = observation.data_processor.process_fits_file(fit_file_path, sun_position_df)"
   ]
  },
  {
   "cell_type": "code",
   "execution_count": null,
   "id": "8ae0ac65",
   "metadata": {},
   "outputs": [],
   "source": [
    "import matplotlib.pyplot as plt\n",
    "\n",
    "# Use the SolarMapPlotter for visualization\n",
    "# For quick visualization without saving maps, we can use matplotlib directly\n",
    "\n",
    "# Extract data for 4.07GHz\n",
    "data_4_07GHz = band_processed_dfs['4.07GHZ']\n",
    "\n",
    "# Plot SunX vs SunY for 4.07GHz with uniform point size and red colormap\n",
    "plt.figure(figsize=(8, 6))\n",
    "scatter = plt.scatter(data_4_07GHz['SunX'], data_4_07GHz['SunY'], \n",
    "                     c=data_4_07GHz['STOKE_I_4.07GHZ'], \n",
    "                     s=50,  # Uniform point size\n",
    "                     cmap='hot', alpha=0.9, label='4.07GHz')\n",
    "plt.colorbar(scatter, label='STOKE_I_4.07GHZ')\n",
    "plt.xlabel('SunX')\n",
    "plt.ylabel('SunY')\n",
    "plt.title('Sun Position for 4.07GHz with Uniform Point Size and Heatmap Colormap')\n",
    "plt.legend()\n",
    "plt.grid()\n",
    "plt.show()"
   ]
  },
  {
   "cell_type": "code",
   "execution_count": null,
   "id": "3eeb700d",
   "metadata": {},
   "outputs": [],
   "source": [
    "import matplotlib.pyplot as plt\n",
    "\n",
    "# Plot the sun position trajectory\n",
    "plt.figure(figsize=(8, 6))\n",
    "plt.plot(sun_position_df['SunX'], sun_position_df['SunY'], label='Sun Position')\n",
    "plt.xlabel('SunX')\n",
    "plt.ylabel('SunY')\n",
    "plt.title('Sun Position Plot')\n",
    "plt.legend()\n",
    "plt.grid()\n",
    "plt.show()\n",
    "\n",
    "# Add a new cell to demonstrate the solar map creation\n",
    "# Uncomment this section to generate solar maps\n",
    "\"\"\"\n",
    "# Create directory for saving images\n",
    "images_output_path = \"output/images\"\n",
    "\n",
    "# Generate solar maps using RBF interpolation\n",
    "output_dir = observation.plotter.create_solar_maps_rbf(band_processed_dfs, images_output_path)\n",
    "print(f\"Solar maps saved to: {output_dir}\")\n",
    "\n",
    "# Alternatively, generate maps using Gaussian filtering\n",
    "# output_dir = observation.createImages_GAUSS(fit_file_path, images_output_path)\n",
    "\"\"\""
   ]
  }
 ],
 "metadata": {
  "kernelspec": {
   "display_name": ".venv",
   "language": "python",
   "name": "python3"
  },
  "language_info": {
   "codemirror_mode": {
    "name": "ipython",
    "version": 3
   },
   "file_extension": ".py",
   "mimetype": "text/x-python",
   "name": "python",
   "nbconvert_exporter": "python",
   "pygments_lexer": "ipython3",
   "version": "3.12.8"
  }
 },
 "nbformat": 4,
 "nbformat_minor": 5
}
